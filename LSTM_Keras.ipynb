{
 "cells": [
  {
   "cell_type": "code",
   "execution_count": null,
   "metadata": {},
   "outputs": [],
   "source": [
    "from keras.models import Sequential\n",
    "from keras.layers import LSTM, Dense, Bidirectional\n",
    "from keras.optimizers import Adam\n",
    "#from sklearn.model_selection import KFold\n",
    "\n",
    "import pandas as pd\n",
    "import numpy as np\n",
    "\n",
    "np.random.seed(0)"
   ]
  },
  {
   "cell_type": "code",
   "execution_count": null,
   "metadata": {},
   "outputs": [],
   "source": [
    "def convert_str_to_array(arr_as_string, len_to_assert):\n",
    "    out_arr = []\n",
    "    for entry in str(arr_as_string).split():\n",
    "        for character in [']','[','\\n', ',']:\n",
    "            entry = entry.strip().replace(character, '')\n",
    "        out_arr.append(np.float32(entry))\n",
    "    #print(out_arr)\n",
    "    assert len(out_arr) == int(len_to_assert)\n",
    "    return np.array(out_arr, dtype=np.float32)"
   ]
  },
  {
   "cell_type": "code",
   "execution_count": null,
   "metadata": {},
   "outputs": [],
   "source": [
    "model = Sequential()\n",
    "model.add(Bidirectional(LSTM(128, activation='tanh', input_shape=(300,1),dropout=0.1, recurrent_dropout=0.1)))\n",
    "model.add(Dense(1, activation='sigmoid'))\n",
    "model.compile(optimizer=Adam(lr=lr), loss='binary_crossentropy',  metrics=['accuracy'])"
   ]
  },
  {
   "cell_type": "code",
   "execution_count": null,
   "metadata": {},
   "outputs": [],
   "source": [
    "### Change this ##\n",
    "# Shuffle the dataset \n",
    "# Validation \n",
    "x_train = data_to_put_into_LSTM[:350] \n",
    "y_train = np.array(total_data['Class'])[:350]\n",
    "\n",
    "x_val = data_to_put_into_LSTM[350:]\n",
    "y_val = np.array(total_data['Class'])[350:]"
   ]
  },
  {
   "cell_type": "code",
   "execution_count": null,
   "metadata": {},
   "outputs": [],
   "source": [
    "model.fit(x_train, y_train, epochs=10, batch_size=32, shuffle=False, validation_data=(x_val, y_val))"
   ]
  },
  {
   "cell_type": "code",
   "execution_count": null,
   "metadata": {},
   "outputs": [],
   "source": [
    "print(\"Evaluation\")\n",
    "results = model.evaluate(x_train, y_train, batch_size=128)\n",
    "print(\"Training loss, Training acc:\", results)\n",
    "\n",
    "print(\"Evaluation\")\n",
    "results = model.evaluate(x_val, y_val, batch_size=128)\n",
    "print(\"Training loss, Training acc:\", results)\n",
    "\n",
    "test = total_data.Vectors[150].reshape(1,300,1)\n",
    "predictions = model.predict(test)\n",
    "test.shape\n",
    "\n",
    "print(predictions)"
   ]
  }
 ],
 "metadata": {
  "kernelspec": {
   "display_name": "Python 3",
   "language": "python",
   "name": "python3"
  },
  "language_info": {
   "codemirror_mode": {
    "name": "ipython",
    "version": 3
   },
   "file_extension": ".py",
   "mimetype": "text/x-python",
   "name": "python",
   "nbconvert_exporter": "python",
   "pygments_lexer": "ipython3",
   "version": "3.8.5"
  }
 },
 "nbformat": 4,
 "nbformat_minor": 4
}
